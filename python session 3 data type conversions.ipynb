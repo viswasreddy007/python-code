{
 "cells": [
  {
   "cell_type": "markdown",
   "id": "be0b885e-92ca-4134-92f6-38021a299836",
   "metadata": {},
   "source": [
    "# type casting"
   ]
  },
  {
   "cell_type": "markdown",
   "id": "34f783af-cf3a-4a3b-ad4f-88a97eae8124",
   "metadata": {},
   "source": [
    "- to convert one data type to another data type is called type casting\n",
    "- which means we wants to convert\n",
    "- integer type to all other (float,str,bool)\n",
    "- float type to all other (int,bool,str)\n",
    "- str type to all other (int,bool,int)\n",
    "- bool type to all others"
   ]
  },
  {
   "cell_type": "markdown",
   "id": "3377382c-24b8-4e4c-8f90-c1978a80a5a6",
   "metadata": {},
   "source": [
    "**integer to other data types**"
   ]
  },
  {
   "cell_type": "markdown",
   "id": "e3ea1d64-6c8d-4829-af68-a8212d34cc4c",
   "metadata": {},
   "source": [
    "$int-float$"
   ]
  },
  {
   "cell_type": "code",
   "execution_count": 2,
   "id": "0f8f198b-ec2e-4bd9-9eda-f5e17f6eaea8",
   "metadata": {},
   "outputs": [
    {
     "name": "stdout",
     "output_type": "stream",
     "text": [
      "10\n"
     ]
    }
   ],
   "source": [
    "a=10\n",
    "print(a)"
   ]
  },
  {
   "cell_type": "code",
   "execution_count": 3,
   "id": "6855e1c4-913d-4d3c-9c89-09dbcdb01b29",
   "metadata": {},
   "outputs": [
    {
     "name": "stdout",
     "output_type": "stream",
     "text": [
      "10.0\n"
     ]
    }
   ],
   "source": [
    "print(float(a))"
   ]
  },
  {
   "cell_type": "code",
   "execution_count": 4,
   "id": "77115348-6927-47de-89b0-61dd8645be14",
   "metadata": {},
   "outputs": [
    {
     "name": "stdout",
     "output_type": "stream",
     "text": [
      "10\n"
     ]
    }
   ],
   "source": [
    "print(str(a))"
   ]
  },
  {
   "cell_type": "code",
   "execution_count": 5,
   "id": "9972e048-0d1c-44f0-8139-a9fd0d16f31b",
   "metadata": {},
   "outputs": [
    {
     "name": "stdout",
     "output_type": "stream",
     "text": [
      "True\n"
     ]
    }
   ],
   "source": [
    "print(bool(a))"
   ]
  },
  {
   "cell_type": "code",
   "execution_count": 7,
   "id": "115fdcbf-3a37-4a87-baf7-52fad63133bb",
   "metadata": {},
   "outputs": [
    {
     "name": "stdout",
     "output_type": "stream",
     "text": [
      "False\n"
     ]
    }
   ],
   "source": [
    "a=10\n",
    "b=1\n",
    "print(a==b)"
   ]
  },
  {
   "cell_type": "code",
   "execution_count": 8,
   "id": "7cc0e3c6-2dcf-4841-89a7-ecd8909753cf",
   "metadata": {},
   "outputs": [
    {
     "name": "stdout",
     "output_type": "stream",
     "text": [
      "10\n"
     ]
    }
   ],
   "source": [
    "print(str(a))"
   ]
  },
  {
   "cell_type": "code",
   "execution_count": 9,
   "id": "6a9f97ba-1d8e-4374-9b5a-7075d07606d3",
   "metadata": {},
   "outputs": [
    {
     "name": "stdout",
     "output_type": "stream",
     "text": [
      "<class 'int'>\n"
     ]
    }
   ],
   "source": [
    "print(type(a))"
   ]
  },
  {
   "cell_type": "code",
   "execution_count": 10,
   "id": "2f83cc15-41f5-4b4d-a39e-9aca99575f25",
   "metadata": {},
   "outputs": [
    {
     "data": {
      "text/plain": [
       "'10'"
      ]
     },
     "execution_count": 10,
     "metadata": {},
     "output_type": "execute_result"
    }
   ],
   "source": [
    "a=10\n",
    "str(a)"
   ]
  },
  {
   "cell_type": "code",
   "execution_count": 12,
   "id": "c0285d81-a1ca-47ee-911a-8156f99f7dfe",
   "metadata": {},
   "outputs": [
    {
     "data": {
      "text/plain": [
       "(200.0, '200', True)"
      ]
     },
     "execution_count": 12,
     "metadata": {},
     "output_type": "execute_result"
    }
   ],
   "source": [
    "float(200),str(200),bool(200)\n"
   ]
  },
  {
   "cell_type": "code",
   "execution_count": 13,
   "id": "07858d46-feb9-4776-88e6-71441b94fbcf",
   "metadata": {},
   "outputs": [
    {
     "data": {
      "text/plain": [
       "(-200.0, '-200', True)"
      ]
     },
     "execution_count": 13,
     "metadata": {},
     "output_type": "execute_result"
    }
   ],
   "source": [
    "float(-200),str(-200),bool(-200)"
   ]
  },
  {
   "cell_type": "markdown",
   "id": "8f984181-8c4e-461e-a157-b825928d9a6b",
   "metadata": {},
   "source": [
    "## when integer of boolean converstion becomes zero(0)"
   ]
  },
  {
   "cell_type": "code",
   "execution_count": 14,
   "id": "9fa12026-7c34-4353-a3eb-c236dfb2d0cc",
   "metadata": {},
   "outputs": [
    {
     "data": {
      "text/plain": [
       "False"
      ]
     },
     "execution_count": 14,
     "metadata": {},
     "output_type": "execute_result"
    }
   ],
   "source": [
    "bool(0)"
   ]
  },
  {
   "cell_type": "markdown",
   "id": "d1131434-ac86-4153-b270-1d01ecb457df",
   "metadata": {},
   "source": [
    "**note**\n",
    "- integer=0 then only boolean becomes false\n",
    "- otherwise for any postive number will be given it will show true"
   ]
  },
  {
   "cell_type": "markdown",
   "id": "fea42550-1443-4f9f-9393-0a703f4cd09d",
   "metadata": {},
   "source": [
    "# float to another data converstions"
   ]
  },
  {
   "cell_type": "code",
   "execution_count": 15,
   "id": "86a3a3cd-1134-4780-a980-51cf9b2db055",
   "metadata": {},
   "outputs": [
    {
     "data": {
      "text/plain": [
       "(200, '200.5', True)"
      ]
     },
     "execution_count": 15,
     "metadata": {},
     "output_type": "execute_result"
    }
   ],
   "source": [
    "int(200.5),str(200.5),bool(200.5)"
   ]
  },
  {
   "cell_type": "code",
   "execution_count": 16,
   "id": "372a18ae-ed32-48c6-b7a6-3db2f87ace8e",
   "metadata": {},
   "outputs": [
    {
     "data": {
      "text/plain": [
       "(200, '200.5', False)"
      ]
     },
     "execution_count": 16,
     "metadata": {},
     "output_type": "execute_result"
    }
   ],
   "source": [
    "int(200.5),str(200.5),bool(0.0)"
   ]
  },
  {
   "cell_type": "markdown",
   "id": "5c6b8082-0671-4fa9-a228-a83be49b6407",
   "metadata": {},
   "source": [
    "# string to another data type"
   ]
  },
  {
   "cell_type": "code",
   "execution_count": 18,
   "id": "41400a4c-1361-4625-8677-94e908e45247",
   "metadata": {},
   "outputs": [
    {
     "ename": "ValueError",
     "evalue": "invalid literal for int() with base 10: 'apple'",
     "output_type": "error",
     "traceback": [
      "\u001b[1;31m---------------------------------------------------------------------------\u001b[0m",
      "\u001b[1;31mValueError\u001b[0m                                Traceback (most recent call last)",
      "Cell \u001b[1;32mIn[18], line 1\u001b[0m\n\u001b[1;32m----> 1\u001b[0m \u001b[38;5;28mint\u001b[39m(\u001b[38;5;124m'\u001b[39m\u001b[38;5;124mapple\u001b[39m\u001b[38;5;124m'\u001b[39m)\n",
      "\u001b[1;31mValueError\u001b[0m: invalid literal for int() with base 10: 'apple'"
     ]
    }
   ],
   "source": [
    "int('apple')"
   ]
  },
  {
   "cell_type": "code",
   "execution_count": 20,
   "id": "d64aeb41-0567-4be2-9cbf-1723e6e1c3ad",
   "metadata": {},
   "outputs": [
    {
     "data": {
      "text/plain": [
       "True"
      ]
     },
     "execution_count": 20,
     "metadata": {},
     "output_type": "execute_result"
    }
   ],
   "source": [
    "bool('apple')"
   ]
  },
  {
   "cell_type": "code",
   "execution_count": 21,
   "id": "b6e22641-7290-4f05-a90e-871c0b943019",
   "metadata": {},
   "outputs": [
    {
     "data": {
      "text/plain": [
       "(10, 10.0, True)"
      ]
     },
     "execution_count": 21,
     "metadata": {},
     "output_type": "execute_result"
    }
   ],
   "source": [
    "int('10'),float('10'),bool('10')"
   ]
  },
  {
   "cell_type": "code",
   "execution_count": 22,
   "id": "4903d957-866b-40ae-bc0b-7cd162c80ac4",
   "metadata": {},
   "outputs": [
    {
     "ename": "ValueError",
     "evalue": "invalid literal for int() with base 10: '10.5'",
     "output_type": "error",
     "traceback": [
      "\u001b[1;31m---------------------------------------------------------------------------\u001b[0m",
      "\u001b[1;31mValueError\u001b[0m                                Traceback (most recent call last)",
      "Cell \u001b[1;32mIn[22], line 1\u001b[0m\n\u001b[1;32m----> 1\u001b[0m \u001b[38;5;28mint\u001b[39m(\u001b[38;5;124m'\u001b[39m\u001b[38;5;124m10.5\u001b[39m\u001b[38;5;124m'\u001b[39m) \u001b[38;5;66;03m# error\u001b[39;00m\n\u001b[0;32m      2\u001b[0m \u001b[38;5;28mfloat\u001b[39m(\u001b[38;5;124m'\u001b[39m\u001b[38;5;124m10.5\u001b[39m\u001b[38;5;124m'\u001b[39m) \u001b[38;5;66;03m# 10.5\u001b[39;00m\n\u001b[0;32m      3\u001b[0m \u001b[38;5;28mbool\u001b[39m(\u001b[38;5;124m'\u001b[39m\u001b[38;5;124m10.5\u001b[39m\u001b[38;5;124m'\u001b[39m)\n",
      "\u001b[1;31mValueError\u001b[0m: invalid literal for int() with base 10: '10.5'"
     ]
    }
   ],
   "source": [
    "int('10.5') # error\n",
    "float('10.5') # 10.5\n",
    "bool('10.5') # true"
   ]
  },
  {
   "cell_type": "code",
   "execution_count": 24,
   "id": "5026c889-0342-4652-86f0-0c1c0ef8ba9d",
   "metadata": {},
   "outputs": [
    {
     "ename": "ValueError",
     "evalue": "invalid literal for int() with base 10: '10.5'",
     "output_type": "error",
     "traceback": [
      "\u001b[1;31m---------------------------------------------------------------------------\u001b[0m",
      "\u001b[1;31mValueError\u001b[0m                                Traceback (most recent call last)",
      "Cell \u001b[1;32mIn[24], line 2\u001b[0m\n\u001b[0;32m      1\u001b[0m \u001b[38;5;28mint\u001b[39m(\u001b[38;5;124m'\u001b[39m\u001b[38;5;124m10\u001b[39m\u001b[38;5;124m'\u001b[39m) \u001b[38;5;66;03m# pass\u001b[39;00m\n\u001b[1;32m----> 2\u001b[0m \u001b[38;5;28mint\u001b[39m(\u001b[38;5;124m'\u001b[39m\u001b[38;5;124m10.5\u001b[39m\u001b[38;5;124m'\u001b[39m) \u001b[38;5;66;03m# fail\u001b[39;00m\n\u001b[0;32m      3\u001b[0m \u001b[38;5;28mfloat\u001b[39m(\u001b[38;5;124m'\u001b[39m\u001b[38;5;124m10.5\u001b[39m\u001b[38;5;124m'\u001b[39m)   \u001b[38;5;66;03m# pass\u001b[39;00m\n\u001b[0;32m      4\u001b[0m \u001b[38;5;28mfloat\u001b[39m(\u001b[38;5;124m'\u001b[39m\u001b[38;5;124m10\u001b[39m\u001b[38;5;124m'\u001b[39m)\n",
      "\u001b[1;31mValueError\u001b[0m: invalid literal for int() with base 10: '10.5'"
     ]
    }
   ],
   "source": [
    "int('10') # pass\n",
    "int('10.5') # fail\n",
    "float('10.5')   # pass\n",
    "float('10') # fail"
   ]
  },
  {
   "cell_type": "markdown",
   "id": "85f1a589-4165-4854-a7f0-990b56274b7e",
   "metadata": {},
   "source": [
    "- flaot is the boss\n",
    "- float of any value either its is intger in string format\n",
    "- or float in string \n",
    "- but integer eill works"
   ]
  },
  {
   "cell_type": "code",
   "execution_count": 25,
   "id": "0ff481b4-80e9-40a2-ab9e-bac183ad47da",
   "metadata": {},
   "outputs": [
    {
     "data": {
      "text/plain": [
       "True"
      ]
     },
     "execution_count": 25,
     "metadata": {},
     "output_type": "execute_result"
    }
   ],
   "source": [
    "bool('0')"
   ]
  },
  {
   "cell_type": "code",
   "execution_count": 26,
   "id": "f2c4bc69-29b0-4cce-9d1b-2e8ebc9dbe7a",
   "metadata": {},
   "outputs": [
    {
     "data": {
      "text/plain": [
       "False"
      ]
     },
     "execution_count": 26,
     "metadata": {},
     "output_type": "execute_result"
    }
   ],
   "source": [
    "bool(0)"
   ]
  },
  {
   "cell_type": "markdown",
   "id": "db336cdf-7350-4b62-9a30-ae02e8225e79",
   "metadata": {},
   "source": [
    "- empty string of boolean give false\n",
    "- false means nothing either () or empty string\n"
   ]
  },
  {
   "cell_type": "markdown",
   "id": "ee0cb8a0-6acb-4730-a275-42e746e9afd2",
   "metadata": {},
   "source": [
    "# boolean to other data types"
   ]
  },
  {
   "cell_type": "code",
   "execution_count": 28,
   "id": "cbdc7be2-4e47-4ca5-bbc6-ca415cdd7ff7",
   "metadata": {},
   "outputs": [
    {
     "data": {
      "text/plain": [
       "bool"
      ]
     },
     "execution_count": 28,
     "metadata": {},
     "output_type": "execute_result"
    }
   ],
   "source": [
    "a=True\n",
    "type(a)"
   ]
  },
  {
   "cell_type": "code",
   "execution_count": 30,
   "id": "7b51e24f-4ae3-4440-b0b3-400b56bb29ef",
   "metadata": {},
   "outputs": [
    {
     "data": {
      "text/plain": [
       "1"
      ]
     },
     "execution_count": 30,
     "metadata": {},
     "output_type": "execute_result"
    }
   ],
   "source": [
    "int(True)"
   ]
  },
  {
   "cell_type": "code",
   "execution_count": 31,
   "id": "808df16c-7736-4b8c-8211-c382b1f35950",
   "metadata": {},
   "outputs": [
    {
     "data": {
      "text/plain": [
       "1.0"
      ]
     },
     "execution_count": 31,
     "metadata": {},
     "output_type": "execute_result"
    }
   ],
   "source": [
    "float(True)"
   ]
  },
  {
   "cell_type": "code",
   "execution_count": 32,
   "id": "39737d4a-fc19-4f6d-a280-df849bb07d7d",
   "metadata": {},
   "outputs": [
    {
     "data": {
      "text/plain": [
       "'True'"
      ]
     },
     "execution_count": 32,
     "metadata": {},
     "output_type": "execute_result"
    }
   ],
   "source": [
    "str(True)"
   ]
  },
  {
   "cell_type": "code",
   "execution_count": 33,
   "id": "e451144a-26e4-4e77-a456-afcd2d63e5d6",
   "metadata": {},
   "outputs": [
    {
     "data": {
      "text/plain": [
       "'False'"
      ]
     },
     "execution_count": 33,
     "metadata": {},
     "output_type": "execute_result"
    }
   ],
   "source": [
    "str(False)"
   ]
  },
  {
   "cell_type": "code",
   "execution_count": 35,
   "id": "932a0965-69b0-48fa-a334-9aeec3713681",
   "metadata": {},
   "outputs": [
    {
     "data": {
      "text/plain": [
       "0"
      ]
     },
     "execution_count": 35,
     "metadata": {},
     "output_type": "execute_result"
    }
   ],
   "source": [
    "int(False)"
   ]
  },
  {
   "cell_type": "code",
   "execution_count": 36,
   "id": "f56bbdc6-5f86-4882-9c53-e000abf76677",
   "metadata": {},
   "outputs": [
    {
     "data": {
      "text/plain": [
       "0.0"
      ]
     },
     "execution_count": 36,
     "metadata": {},
     "output_type": "execute_result"
    }
   ],
   "source": [
    "float(False)"
   ]
  },
  {
   "cell_type": "code",
   "execution_count": 43,
   "id": "07714075-741e-47eb-9896-65586e6d41cd",
   "metadata": {},
   "outputs": [
    {
     "data": {
      "text/plain": [
       "(10.0, '10', True)"
      ]
     },
     "execution_count": 43,
     "metadata": {},
     "output_type": "execute_result"
    }
   ],
   "source": [
    "#### INT to other ####\n",
    "float(10),str(10),bool(10)"
   ]
  },
  {
   "cell_type": "code",
   "execution_count": 41,
   "id": "0b0c47e2-ed85-4147-b44c-ef92057a04fd",
   "metadata": {},
   "outputs": [
    {
     "data": {
      "text/plain": [
       "(10, 10.0, True, False)"
      ]
     },
     "execution_count": 41,
     "metadata": {},
     "output_type": "execute_result"
    }
   ],
   "source": [
    "## STRING TO OTHER TYPES ##\n",
    "int('10'),float('10'),bool('10'),bool(0)"
   ]
  },
  {
   "cell_type": "code",
   "execution_count": 42,
   "id": "47084179-ee51-4d10-b1f1-fc60c96a298b",
   "metadata": {},
   "outputs": [
    {
     "data": {
      "text/plain": [
       "(10, '10.0', True, True)"
      ]
     },
     "execution_count": 42,
     "metadata": {},
     "output_type": "execute_result"
    }
   ],
   "source": [
    "### FLOAT TO OTHER TYPES ###\n",
    "int(10.0),str(10.0),bool(10.0),bool(-9)"
   ]
  },
  {
   "cell_type": "code",
   "execution_count": 45,
   "id": "485b3ee6-290b-40c0-8a3e-38d295bc3b5f",
   "metadata": {},
   "outputs": [
    {
     "data": {
      "text/plain": [
       "(1, 1.0, 'True', 0, 0.0, 'False')"
      ]
     },
     "execution_count": 45,
     "metadata": {},
     "output_type": "execute_result"
    }
   ],
   "source": [
    "## BOOLEAN TO OTHER TYPES ##\n",
    "int(True),float(True),str(True),int(False),float(False),str(False)"
   ]
  },
  {
   "cell_type": "code",
   "execution_count": null,
   "id": "6286d697-68ae-4893-a913-5c2fe8b239b0",
   "metadata": {},
   "outputs": [],
   "source": []
  }
 ],
 "metadata": {
  "kernelspec": {
   "display_name": "Python 3 (ipykernel)",
   "language": "python",
   "name": "python3"
  },
  "language_info": {
   "codemirror_mode": {
    "name": "ipython",
    "version": 3
   },
   "file_extension": ".py",
   "mimetype": "text/x-python",
   "name": "python",
   "nbconvert_exporter": "python",
   "pygments_lexer": "ipython3",
   "version": "3.11.7"
  }
 },
 "nbformat": 4,
 "nbformat_minor": 5
}
