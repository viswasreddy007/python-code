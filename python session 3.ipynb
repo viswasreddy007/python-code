{
 "cells": [
  {
   "cell_type": "markdown",
   "id": "de052629-d317-4019-a161-3ede69331ac7",
   "metadata": {},
   "source": [
    "## get current woriking directory and it will show where our python file located\n",
    "import os"
   ]
  },
  {
   "cell_type": "code",
   "execution_count": 3,
   "id": "28fd9bdd-2fdf-46d0-9fdd-6150216c7171",
   "metadata": {},
   "outputs": [
    {
     "data": {
      "text/plain": [
       "'C:\\\\Users\\\\viswa\\\\DATA SCIENCE AND MACHINE LEARNING BY NARESH IT\\\\PYTHON'"
      ]
     },
     "execution_count": 3,
     "metadata": {},
     "output_type": "execute_result"
    }
   ],
   "source": [
    "os.getcwd()"
   ]
  },
  {
   "cell_type": "markdown",
   "id": "76362c47-0304-4cc8-ab11-772c8b0a93d4",
   "metadata": {},
   "source": [
    "8 4 2 1 num\n",
    "0 0 0 0  0\n",
    "0 0 0 1  1\n",
    "0 0 1 0  2\n",
    "0 0 1 1  3\n",
    "0 1 0 0  4"
   ]
  },
  {
   "cell_type": "markdown",
   "id": "2e8b50fe-c7fd-4222-9b17-0e61b98531cf",
   "metadata": {},
   "source": [
    "# octal number"
   ]
  },
  {
   "cell_type": "markdown",
   "id": "08b1cb02-7147-43cf-8d90-79baf9820bbf",
   "metadata": {},
   "source": [
    "- octa means 8\n",
    "- it requires 8 digits\n",
    "- generally we have 0 1 2 3 4 5 6 7 8 9 \n",
    "- so it will represent with only 0 1 2 3 4 5 6 7 \n",
    "- representation is 0o123, 0O012345, 0oo7654321\n",
    "- wrong representation is 0o108, 0o987"
   ]
  },
  {
   "cell_type": "code",
   "execution_count": 6,
   "id": "77929d16-dd15-4513-b26f-ccb64396ffb0",
   "metadata": {},
   "outputs": [
    {
     "data": {
      "text/plain": [
       "83"
      ]
     },
     "execution_count": 6,
     "metadata": {},
     "output_type": "execute_result"
    }
   ],
   "source": [
    "0o0123"
   ]
  },
  {
   "cell_type": "code",
   "execution_count": 7,
   "id": "b0a86c3f-9a19-4094-baf1-6b25ef5f46c4",
   "metadata": {},
   "outputs": [
    {
     "data": {
      "text/plain": [
       "668"
      ]
     },
     "execution_count": 7,
     "metadata": {},
     "output_type": "execute_result"
    }
   ],
   "source": [
    "0o1234"
   ]
  },
  {
   "cell_type": "code",
   "execution_count": 8,
   "id": "7f8e5d04-fbae-4fc8-9070-b42cf1682338",
   "metadata": {},
   "outputs": [
    {
     "data": {
      "text/plain": [
       "166"
      ]
     },
     "execution_count": 8,
     "metadata": {},
     "output_type": "execute_result"
    }
   ],
   "source": [
    "0o246"
   ]
  },
  {
   "cell_type": "markdown",
   "id": "747292c6-0189-4783-ae6a-e5683b25613f",
   "metadata": {},
   "source": [
    "# hexa number"
   ]
  },
  {
   "cell_type": "markdown",
   "id": "a4d7d062-f20a-4152-8d55-3fe56ac01120",
   "metadata": {},
   "source": [
    "- hexa means 16\n",
    "- it requires 16 digits\n",
    "- generally we have 0 1 2 3 4 5 6 7 8 9 a(10) b c d e f\n",
    "- so it will represent with only 0-9  A-F\n",
    "- representation is 0xF9, 0x0123abc, 0xabc\n",
    "- wrong representation is 0oGH, 0xabcdg"
   ]
  },
  {
   "cell_type": "code",
   "execution_count": 9,
   "id": "cd9b2e30-475d-46c0-b236-bc8050973a6c",
   "metadata": {},
   "outputs": [
    {
     "data": {
      "text/plain": [
       "2748"
      ]
     },
     "execution_count": 9,
     "metadata": {},
     "output_type": "execute_result"
    }
   ],
   "source": [
    "0xabc"
   ]
  },
  {
   "cell_type": "code",
   "execution_count": 10,
   "id": "bcea40d5-6e19-4390-ade8-c3ee47553b4a",
   "metadata": {},
   "outputs": [
    {
     "data": {
      "text/plain": [
       "4671"
      ]
     },
     "execution_count": 10,
     "metadata": {},
     "output_type": "execute_result"
    }
   ],
   "source": [
    "0X123F"
   ]
  },
  {
   "cell_type": "markdown",
   "id": "ca3860a9-b787-4de9-bed1-2d7d6504b8f3",
   "metadata": {},
   "source": [
    "# FLOAT"
   ]
  },
  {
   "cell_type": "code",
   "execution_count": 11,
   "id": "ff0607ab-da86-4f8b-a801-45db87308c10",
   "metadata": {},
   "outputs": [
    {
     "name": "stdout",
     "output_type": "stream",
     "text": [
      "<class 'float'>\n"
     ]
    }
   ],
   "source": [
    "n=100.5\n",
    "print(type(n))\n"
   ]
  },
  {
   "cell_type": "code",
   "execution_count": 12,
   "id": "bcf32d22-fa05-4fdb-ad71-8b4e5c3b51eb",
   "metadata": {},
   "outputs": [
    {
     "data": {
      "text/plain": [
       "(10.0, 100.0, 1000.0, 10000.0)"
      ]
     },
     "execution_count": 12,
     "metadata": {},
     "output_type": "execute_result"
    }
   ],
   "source": [
    "1e1,1e2,1e3,1e4\n",
    "# kep=k*10^p"
   ]
  },
  {
   "cell_type": "code",
   "execution_count": 13,
   "id": "101fcc31-db94-4c80-afc6-c5c7f22ed733",
   "metadata": {},
   "outputs": [
    {
     "data": {
      "text/plain": [
       "24000.0"
      ]
     },
     "execution_count": 13,
     "metadata": {},
     "output_type": "execute_result"
    }
   ],
   "source": [
    "24e3\n",
    "# 24*10^3"
   ]
  },
  {
   "cell_type": "markdown",
   "id": "5b47ab8d-4557-46a4-b8b2-6874dae74113",
   "metadata": {},
   "source": [
    "1e+1,1e+2,1e+3,1e+4\n",
    "* if we put +(postive sign) it will multiply the number"
   ]
  },
  {
   "cell_type": "markdown",
   "id": "740b4915-b805-462e-a459-27e571278c66",
   "metadata": {},
   "source": [
    "1e-1,1e-2,1e-3  \n",
    "* if we put -(negative sign)  it will divide the number"
   ]
  },
  {
   "cell_type": "code",
   "execution_count": 17,
   "id": "1c68e798-ee94-46c2-b43e-386d8d78686a",
   "metadata": {},
   "outputs": [
    {
     "data": {
      "text/plain": [
       "0.024"
      ]
     },
     "execution_count": 17,
     "metadata": {},
     "output_type": "execute_result"
    }
   ],
   "source": [
    "24e-3  # 24/1000=0.024"
   ]
  },
  {
   "cell_type": "code",
   "execution_count": 18,
   "id": "d74fe398-5206-4769-9689-73a5a329424d",
   "metadata": {},
   "outputs": [
    {
     "data": {
      "text/plain": [
       "7.74619736e-15"
      ]
     },
     "execution_count": 18,
     "metadata": {},
     "output_type": "execute_result"
    }
   ],
   "source": [
    "7.74619736e-15"
   ]
  },
  {
   "cell_type": "markdown",
   "id": "73258d0f-4172-48e0-b472-ca494937baef",
   "metadata": {},
   "source": [
    "# strings"
   ]
  },
  {
   "cell_type": "markdown",
   "id": "e1b842d7-3719-4f00-a8f3-40e10eacfbbd",
   "metadata": {},
   "source": [
    "- strings are used to represent the english characters generally\n",
    "- strings will represent in \n",
    "    - single qoutes ''\n",
    "    - double qoutes \"\"\n",
    "    - triple qoutes "
   ]
  },
  {
   "cell_type": "code",
   "execution_count": 19,
   "id": "29de7bf9-ac15-4a2f-9b59-665df09c8fd6",
   "metadata": {},
   "outputs": [
    {
     "data": {
      "text/plain": [
       "str"
      ]
     },
     "execution_count": 19,
     "metadata": {},
     "output_type": "execute_result"
    }
   ],
   "source": [
    "name='viswasreddy'\n",
    "type(name)"
   ]
  },
  {
   "cell_type": "code",
   "execution_count": 22,
   "id": "d2b0a50d-eb36-4baa-9117-6209fef0bdc5",
   "metadata": {},
   "outputs": [
    {
     "data": {
      "text/plain": [
       "str"
      ]
     },
     "execution_count": 22,
     "metadata": {},
     "output_type": "execute_result"
    }
   ],
   "source": [
    "a=\"viswasreddy\"\n",
    "type(a)"
   ]
  },
  {
   "cell_type": "code",
   "execution_count": 24,
   "id": "ac9c100d-2939-44e1-b348-fdf0a53da576",
   "metadata": {},
   "outputs": [
    {
     "name": "stdout",
     "output_type": "stream",
     "text": [
      "<class 'str'>\n"
     ]
    }
   ],
   "source": [
    "email_id='viswasreddy84@gmail.com'\n",
    "print(type(email_id))"
   ]
  },
  {
   "cell_type": "markdown",
   "id": "3dd13939-9026-422f-883e-f174362caa45",
   "metadata": {},
   "source": [
    "- **RED colour means STRINGS**\n",
    "- **GREEN colour means KEYWORDS**\n",
    "- **BLACK colour means VARIABLES**\n"
   ]
  },
  {
   "cell_type": "code",
   "execution_count": 25,
   "id": "132fdd19-e6a1-4eab-b36c-a5df1bc24495",
   "metadata": {},
   "outputs": [
    {
     "data": {
      "text/plain": [
       "'python'"
      ]
     },
     "execution_count": 25,
     "metadata": {},
     "output_type": "execute_result"
    }
   ],
   "source": [
    "a='python'\n",
    "b=\"python\"\n",
    "a"
   ]
  },
  {
   "cell_type": "code",
   "execution_count": 26,
   "id": "7fcace08-fa84-4d08-98cc-0d3a6917e61c",
   "metadata": {},
   "outputs": [
    {
     "data": {
      "text/plain": [
       "'python'"
      ]
     },
     "execution_count": 26,
     "metadata": {},
     "output_type": "execute_result"
    }
   ],
   "source": [
    "b"
   ]
  },
  {
   "cell_type": "markdown",
   "id": "5d818ed9-2404-42ad-9987-f3b6c1d71be0",
   "metadata": {},
   "source": [
    "- **output are always in single qoutes even if we type an string in double qouts**"
   ]
  },
  {
   "cell_type": "code",
   "execution_count": 27,
   "id": "9a6fa6a7-01d2-4353-a682-9a7082c0bfda",
   "metadata": {},
   "outputs": [
    {
     "name": "stdout",
     "output_type": "stream",
     "text": [
      "python\n"
     ]
    }
   ],
   "source": [
    "print(a)"
   ]
  },
  {
   "cell_type": "markdown",
   "id": "30e44fd4-e6a7-47bd-be72-c01e99304983",
   "metadata": {},
   "source": [
    "- **whenever you print quotes will not visible**"
   ]
  },
  {
   "cell_type": "code",
   "execution_count": 28,
   "id": "da174379-6970-46a8-9717-c2235096fb43",
   "metadata": {},
   "outputs": [
    {
     "name": "stdout",
     "output_type": "stream",
     "text": [
      "i like 'python'\n"
     ]
    }
   ],
   "source": [
    "name=\"i like 'python'\"\n",
    "print(name)"
   ]
  },
  {
   "cell_type": "code",
   "execution_count": 29,
   "id": "d1d12016-51c7-4190-bd65-ce2588119c0c",
   "metadata": {},
   "outputs": [
    {
     "name": "stdout",
     "output_type": "stream",
     "text": [
      "i like \"python\"\n"
     ]
    }
   ],
   "source": [
    "a='i like \"python\"'\n",
    "print(a)\n"
   ]
  },
  {
   "cell_type": "code",
   "execution_count": 30,
   "id": "6e25f82c-58ca-4045-92f2-3d8cfb735fc8",
   "metadata": {},
   "outputs": [
    {
     "ename": "SyntaxError",
     "evalue": "invalid syntax (986764247.py, line 1)",
     "output_type": "error",
     "traceback": [
      "\u001b[1;36m  Cell \u001b[1;32mIn[30], line 1\u001b[1;36m\u001b[0m\n\u001b[1;33m    a=\"i like \"python\"\"\u001b[0m\n\u001b[1;37m               ^\u001b[0m\n\u001b[1;31mSyntaxError\u001b[0m\u001b[1;31m:\u001b[0m invalid syntax\n"
     ]
    }
   ],
   "source": [
    "a=\"i like \"python\"\"\n",
    "print(a)"
   ]
  },
  {
   "cell_type": "markdown",
   "id": "7c9cc65c-60ec-4300-8fc4-9b44721c5147",
   "metadata": {},
   "source": [
    "- **entire string is double qoutes the highlighted word is single quote and vice versa**"
   ]
  },
  {
   "cell_type": "markdown",
   "id": "31a35089-2d2d-49c3-8841-4d4f4d7918e4",
   "metadata": {},
   "source": [
    "***triple codes***"
   ]
  },
  {
   "cell_type": "markdown",
   "id": "c40b4653-4c99-4d21-9142-92267b1afaf9",
   "metadata": {},
   "source": [
    "- triple quotes is not used for coding\n",
    "- triple quotes is used to provide the information to user\n",
    "- in order to provide the information in jupyter notebook we will MARKDOWN\n",
    "- in VSCODE or pycharm there is no MARKDOWN option\n",
    "- that why the world start used to write the information is triple quotes\n",
    "- the entire process is called  *DOC STRING*"
   ]
  },
  {
   "cell_type": "code",
   "execution_count": 31,
   "id": "1946eac2-3851-4ff4-8922-b1942a2cef3f",
   "metadata": {},
   "outputs": [
    {
     "data": {
      "text/plain": [
       "'\\nhello\\nim writing python code\\nthis python\\n'"
      ]
     },
     "execution_count": 31,
     "metadata": {},
     "output_type": "execute_result"
    }
   ],
   "source": [
    "\"\"\"\n",
    "hello\n",
    "im writing python code\n",
    "this python\n",
    "\"\"\""
   ]
  },
  {
   "cell_type": "markdown",
   "id": "111fecf3-a33a-4079-a8f5-e462e992ffce",
   "metadata": {},
   "source": [
    "# boolean"
   ]
  },
  {
   "cell_type": "code",
   "execution_count": 38,
   "id": "77662a5b-150b-4bad-af9a-1c68ff62bdd6",
   "metadata": {},
   "outputs": [
    {
     "data": {
      "text/plain": [
       "bool"
      ]
     },
     "execution_count": 38,
     "metadata": {},
     "output_type": "execute_result"
    }
   ],
   "source": [
    "a=True\n",
    "type(a)"
   ]
  },
  {
   "cell_type": "code",
   "execution_count": 36,
   "id": "853fc1f8-8168-47f2-ab28-1efe177e1cd0",
   "metadata": {},
   "outputs": [
    {
     "data": {
      "text/plain": [
       "bool"
      ]
     },
     "execution_count": 36,
     "metadata": {},
     "output_type": "execute_result"
    }
   ],
   "source": [
    "a=false\n",
    "type(a)"
   ]
  },
  {
   "cell_type": "markdown",
   "id": "8fda59f1-b646-4601-b74d-4df438a1979e",
   "metadata": {},
   "source": [
    "true='True'\n",
    "false=False\n",
    "\n",
    "- **true amd false are variables**\n",
    "- **type true is string**\n",
    "- **type false is boolean**\n"
   ]
  },
  {
   "cell_type": "code",
   "execution_count": null,
   "id": "f1e25e7d-379c-4946-84c9-b16b7bd00f92",
   "metadata": {},
   "outputs": [],
   "source": []
  }
 ],
 "metadata": {
  "kernelspec": {
   "display_name": "Python 3 (ipykernel)",
   "language": "python",
   "name": "python3"
  },
  "language_info": {
   "codemirror_mode": {
    "name": "ipython",
    "version": 3
   },
   "file_extension": ".py",
   "mimetype": "text/x-python",
   "name": "python",
   "nbconvert_exporter": "python",
   "pygments_lexer": "ipython3",
   "version": "3.11.7"
  }
 },
 "nbformat": 4,
 "nbformat_minor": 5
}
