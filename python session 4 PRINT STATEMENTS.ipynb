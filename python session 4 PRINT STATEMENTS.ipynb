{
 "cells": [
  {
   "cell_type": "markdown",
   "id": "3234fcfb-6cf7-4d0e-9907-396a1ab07d4e",
   "metadata": {},
   "source": [
    "# print statements"
   ]
  },
  {
   "cell_type": "code",
   "execution_count": 2,
   "id": "b88f8f06-1862-48be-88e7-d6b8336ae55b",
   "metadata": {},
   "outputs": [
    {
     "name": "stdout",
     "output_type": "stream",
     "text": [
      "10\n"
     ]
    }
   ],
   "source": [
    "print(10)"
   ]
  },
  {
   "cell_type": "code",
   "execution_count": 3,
   "id": "ab6fb0e0-49f6-42b4-b8d9-076106a5fb85",
   "metadata": {},
   "outputs": [
    {
     "name": "stdout",
     "output_type": "stream",
     "text": [
      "python\n"
     ]
    }
   ],
   "source": [
    "print('python')"
   ]
  },
  {
   "cell_type": "code",
   "execution_count": 4,
   "id": "0e29c098-8659-4ff3-88df-431ea9626f59",
   "metadata": {},
   "outputs": [
    {
     "name": "stdout",
     "output_type": "stream",
     "text": [
      "10 30 40\n"
     ]
    }
   ],
   "source": [
    "print(10,30,40)"
   ]
  },
  {
   "cell_type": "code",
   "execution_count": 5,
   "id": "42378fe4-5e46-44d3-b2ec-1874018e343c",
   "metadata": {},
   "outputs": [
    {
     "name": "stdout",
     "output_type": "stream",
     "text": [
      "10 10.5 naresh True\n"
     ]
    }
   ],
   "source": [
    "print(10,10.5,'naresh',True)"
   ]
  },
  {
   "cell_type": "code",
   "execution_count": 6,
   "id": "da5720f3-e461-4660-bbf1-34f71085e116",
   "metadata": {},
   "outputs": [
    {
     "name": "stdout",
     "output_type": "stream",
     "text": [
      "10 20\n"
     ]
    }
   ],
   "source": [
    "a=10\n",
    "b=20\n",
    "print(a,b)"
   ]
  },
  {
   "cell_type": "code",
   "execution_count": 7,
   "id": "6c701368-c28b-4d7f-8709-678091400b78",
   "metadata": {},
   "outputs": [
    {
     "name": "stdout",
     "output_type": "stream",
     "text": [
      "10\n",
      "20\n"
     ]
    },
    {
     "data": {
      "text/plain": [
       "(None, None)"
      ]
     },
     "execution_count": 7,
     "metadata": {},
     "output_type": "execute_result"
    }
   ],
   "source": [
    "print(10),print(20)"
   ]
  },
  {
   "cell_type": "code",
   "execution_count": 8,
   "id": "fb0054c1-0df4-4b00-ac66-559d4e1044ea",
   "metadata": {},
   "outputs": [
    {
     "name": "stdout",
     "output_type": "stream",
     "text": [
      "10 10 10\n",
      "10\n",
      "10\n",
      "10\n"
     ]
    },
    {
     "data": {
      "text/plain": [
       "(None, None, None)"
      ]
     },
     "execution_count": 8,
     "metadata": {},
     "output_type": "execute_result"
    }
   ],
   "source": [
    "print(10,10,10)\n",
    "print(10),print(10),print(10)"
   ]
  },
  {
   "cell_type": "code",
   "execution_count": 13,
   "id": "b17af27a-6df2-4824-9427-ce9e17638848",
   "metadata": {},
   "outputs": [
    {
     "name": "stdout",
     "output_type": "stream",
     "text": [
      "the addition of 100 ammd 200  is 300\n"
     ]
    }
   ],
   "source": [
    "a=100\n",
    "b=200\n",
    "c=a+b\n",
    "print('the addition of',a,'ammd',b,' is' ,c)\n",
    "# the addition of 10 ammd 20 is 30\n"
   ]
  },
  {
   "cell_type": "code",
   "execution_count": 14,
   "id": "865bf502-50cf-49d1-a7e3-b1ecd9215b0f",
   "metadata": {},
   "outputs": [
    {
     "name": "stdout",
     "output_type": "stream",
     "text": [
      "the addition of 100 ammd 200  is 300\n"
     ]
    }
   ],
   "source": [
    "print('the addition of {} ammd {}  is {}'.format(a,b,c))"
   ]
  },
  {
   "cell_type": "code",
   "execution_count": 17,
   "id": "8b2fab35-ec09-4998-aaf8-4ce1e2975573",
   "metadata": {},
   "outputs": [
    {
     "name": "stdout",
     "output_type": "stream",
     "text": [
      "my name is viswasreddy and, iam 21 years old and im from hyderabad\n"
     ]
    }
   ],
   "source": [
    "name='viswasreddy'\n",
    "age=21\n",
    "place='hyderabad'\n",
    "print('my name is {} and, iam {} years old and im from {}'.format(name,age,place))"
   ]
  },
  {
   "cell_type": "code",
   "execution_count": 19,
   "id": "634926ab-ed96-40ae-ae1f-220bb664538c",
   "metadata": {},
   "outputs": [
    {
     "name": "stdout",
     "output_type": "stream",
     "text": [
      "my name is viswasreddy and iam an data analyst and i will working in google company\n"
     ]
    }
   ],
   "source": [
    "employe_name='viswasreddy'\n",
    "employe_disgnation='data analyst'\n",
    "employe_company='google'\n",
    "print('my name is {} and iam an {} and i will working in {} company'.format(employe_name,employe_disgnation,employe_company))"
   ]
  },
  {
   "cell_type": "code",
   "execution_count": 24,
   "id": "3633e979-448f-42c6-8065-c677fcf79961",
   "metadata": {},
   "outputs": [
    {
     "name": "stdout",
     "output_type": "stream",
     "text": [
      "the addition of 100 ammd 200  is 300\n",
      "the addition of 100 ammd 200  is 300\n"
     ]
    }
   ],
   "source": [
    "# f string method\n",
    "a=100\n",
    "b=200\n",
    "c=a+b\n",
    "print('the addition of',a,'ammd',b,' is' ,c)\n",
    "print(f'the addition of {a} ammd {b}  is {c}')"
   ]
  },
  {
   "cell_type": "code",
   "execution_count": null,
   "id": "31e0334d-242a-4532-8842-d0f54c581dbe",
   "metadata": {},
   "outputs": [],
   "source": []
  }
 ],
 "metadata": {
  "kernelspec": {
   "display_name": "Python 3 (ipykernel)",
   "language": "python",
   "name": "python3"
  },
  "language_info": {
   "codemirror_mode": {
    "name": "ipython",
    "version": 3
   },
   "file_extension": ".py",
   "mimetype": "text/x-python",
   "name": "python",
   "nbconvert_exporter": "python",
   "pygments_lexer": "ipython3",
   "version": "3.11.7"
  }
 },
 "nbformat": 4,
 "nbformat_minor": 5
}
